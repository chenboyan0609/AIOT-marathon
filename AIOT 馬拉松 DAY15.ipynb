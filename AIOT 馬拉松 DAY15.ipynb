{
 "cells": [
  {
   "cell_type": "markdown",
   "metadata": {},
   "source": [
    "## 作業1:"
   ]
  },
  {
   "cell_type": "code",
   "execution_count": null,
   "metadata": {},
   "outputs": [],
   "source": [
    "root@raspberrypi:/home/pi# python3 DHT22Reader.py\n",
    "Temp=27.6*C Humidity=54.4%\n",
    "Temp=27.6*C Humidity=54.5%\n",
    "Temp=27.6*C Humidity=54.5%\n",
    "Temp=27.6*C Humidity=54.5%\n",
    "Temp=27.6*C Humidity=54.5%\n",
    "Temp=27.6*C Humidity=54.5%\n",
    "Temp=27.6*C Humidity=54.5%\n",
    "Temp=27.6*C Humidity=54.4%\n",
    "Temp=27.6*C Humidity=54.4%\n",
    "\n",
    "root@raspberrypi:/home/pi# cat DHT22Reader.py\n",
    "import Adafruit_DHT\n",
    "\n",
    "DHT_SENSOR = Adafruit_DHT.DHT22\n",
    "DHT_PIN = 27\n",
    "while True:\n",
    "    humidity,temperature = Adafruit_DHT.read_retry(DHT_SENSOR,DHT_PIN)\n",
    "    if humidity is not None and temperature is not None:\n",
    "        print(\"Temp={0:0.1f}*C Humidity={1:0.1f}%\".format(temperature,humidity))\n",
    "    else:\n",
    "        print(\"Failed to retrieve data from humidity sensor\")\n",
    "root@raspberrypi:/home/pi#\n"
   ]
  },
  {
   "cell_type": "markdown",
   "metadata": {},
   "source": [
    "## 作業2:"
   ]
  },
  {
   "cell_type": "markdown",
   "metadata": {},
   "source": [
    "### 等待說明"
   ]
  },
  {
   "cell_type": "markdown",
   "metadata": {},
   "source": [
    "## 作業3:"
   ]
  },
  {
   "cell_type": "markdown",
   "metadata": {},
   "source": [
    "### 等待說明"
   ]
  }
 ],
 "metadata": {
  "kernelspec": {
   "display_name": "Python 3",
   "language": "python",
   "name": "python3"
  },
  "language_info": {
   "codemirror_mode": {
    "name": "ipython",
    "version": 3
   },
   "file_extension": ".py",
   "mimetype": "text/x-python",
   "name": "python",
   "nbconvert_exporter": "python",
   "pygments_lexer": "ipython3",
   "version": "3.8.5"
  }
 },
 "nbformat": 4,
 "nbformat_minor": 4
}
