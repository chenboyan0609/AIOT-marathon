{
 "cells": [
  {
   "cell_type": "markdown",
   "metadata": {},
   "source": [
    "## 作業1:"
   ]
  },
  {
   "cell_type": "code",
   "execution_count": null,
   "metadata": {},
   "outputs": [],
   "source": [
    "root@raspberrypi:/home/pi# lsusb -v | grep \"14 Video\"\n",
    "can't get debug descriptor: Resource temporarily unavailable\n",
    "      bFunctionClass         14 Video\n",
    "      bInterfaceClass        14 Video\n",
    "      bInterfaceClass        14 Video\n",
    "      bInterfaceClass        14 Video\n",
    "      bInterfaceClass        14 Video\n",
    "      bInterfaceClass        14 Video\n",
    "      bInterfaceClass        14 Video\n",
    "      bInterfaceClass        14 Video\n",
    "      bInterfaceClass        14 Video\n",
    "      bInterfaceClass        14 Video\n",
    "      bInterfaceClass        14 Video\n",
    "      bInterfaceClass        14 Video\n",
    "      bInterfaceClass        14 Video\n",
    "      bInterfaceClass        14 Video\n",
    "can't get debug descriptor: Resource temporarily unavailable\n",
    "can't get debug descriptor: Resource temporarily unavailable\n",
    "can't get device qualifier: Resource temporarily unavailable\n",
    "can't get debug descriptor: Resource temporarily unavailable\n",
    "root@raspberrypi:/home/pi# "
   ]
  },
  {
   "cell_type": "markdown",
   "metadata": {},
   "source": [
    "## 作業2:"
   ]
  },
  {
   "cell_type": "code",
   "execution_count": null,
   "metadata": {},
   "outputs": [],
   "source": [
    "root@raspberrypi:/home/pi# fswebcam image.jpg\n",
    "--- Opening /dev/video0...\n",
    "Trying source module v4l2...\n",
    "/dev/video0 opened.\n",
    "No input was specified, using the first.\n",
    "Adjusting resolution from 384x288 to 352x288.\n",
    "--- Capturing frame...\n",
    "Captured frame in 0.00 seconds.\n",
    "--- Processing captured image...\n",
    "Writing JPEG image to 'image.jpg'.\n",
    "root@raspberrypi:/home/pi# "
   ]
  },
  {
   "cell_type": "markdown",
   "metadata": {},
   "source": [
    "## 作業3:"
   ]
  },
  {
   "cell_type": "code",
   "execution_count": null,
   "metadata": {},
   "outputs": [],
   "source": [
    "root@raspberrypi:/home/pi# python3 pictuer.py\n",
    "--- Opening /dev/video0...\n",
    "Trying source module v4l2...\n",
    "/dev/video0 opened.\n",
    "No input was specified, using the first.\n",
    "Adjusting resolution from 320x-1 to 352x288.\n",
    "--- Capturing frame...\n",
    "Skipping 3 frames...\n",
    "Capturing 1 frames...\n",
    "Captured 4 frames in 0.20 seconds. (20 fps)\n",
    "--- Processing captured image...\n",
    "Setting output format to JPEG, quality 50\n",
    "Writing JPEG image to '/home/pi/Pictures/232503.jpg'.\n",
    "^CTraceback (most recent call last):\n",
    "  File \"pictuer.py\", line 6, in <module>\n",
    "    time.sleep(15)\n",
    "KeyboardInterrupt\n",
    "root@raspberrypi:/home/pi#\n"
   ]
  }
 ],
 "metadata": {
  "kernelspec": {
   "display_name": "Python 3",
   "language": "python",
   "name": "python3"
  },
  "language_info": {
   "codemirror_mode": {
    "name": "ipython",
    "version": 3
   },
   "file_extension": ".py",
   "mimetype": "text/x-python",
   "name": "python",
   "nbconvert_exporter": "python",
   "pygments_lexer": "ipython3",
   "version": "3.8.5"
  }
 },
 "nbformat": 4,
 "nbformat_minor": 4
}
