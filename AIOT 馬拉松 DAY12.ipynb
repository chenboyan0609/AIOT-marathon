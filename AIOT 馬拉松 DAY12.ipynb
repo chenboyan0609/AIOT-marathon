{
 "cells": [
  {
   "cell_type": "markdown",
   "metadata": {},
   "source": [
    "## 作業1:"
   ]
  },
  {
   "cell_type": "markdown",
   "metadata": {},
   "source": [
    "root@raspberrypi:/home/pi# cat /sys//kernel/debug/gpio | grep gpio-8\n",
    " gpio-8   (SPI_CE0_N           )\n",
    "root@raspberrypi:/home/pi# echo 8 > /sys/class/gpio/export\n",
    "root@raspberrypi:/home/pi# cat /sys//kernel/debug/gpio | grep gpio-8\n",
    " gpio-8   (SPI_CE0_N           |sysfs               ) in  hi\n",
    "root@raspberrypi:/home/pi# echo 0 > /sys/class/gpio/gpio8/value\n",
    "bash: echo: write error: Operation not permitted\n",
    "root@raspberrypi:/home/pi# ^C\n",
    "root@raspberrypi:/home/pi# echo out > /sys/class/gpio/gpio8/direction\n",
    "root@raspberrypi:/home/pi# echo 0 > /sys/class/gpio/gpio8/value\n",
    "root@raspberrypi:/home/pi# cat /sys//kernel/debug/gpio | grep gpio-8\n",
    " gpio-8   (SPI_CE0_N           |sysfs               ) out lo\n",
    "root@raspberrypi:/home/pi# echo 1 > /sys/class/gpio/gpio8/value\n",
    "root@raspberrypi:/home/pi# cat /sys//kernel/debug/gpio | grep gpio-8\n",
    " gpio-8   (SPI_CE0_N           |sysfs               ) out hi\n",
    "root@raspberrypi:/home/pi# echo 8 > /sys/class/gpio/unexport\n",
    "root@raspberrypi:/home/pi# cat /sys//kernel/debug/gpio | grep gpio-8\n",
    " gpio-8   (SPI_CE0_N           )\n",
    "root@raspberrypi:/home/pi# echo 1 > /sys/class/gpio/gpio8/value\n",
    "bash: /sys/class/gpio/gpio8/value: No such file or directory\n"
   ]
  },
  {
   "cell_type": "markdown",
   "metadata": {},
   "source": [
    "## 作業2:"
   ]
  },
  {
   "cell_type": "markdown",
   "metadata": {},
   "source": [
    "root@raspberrypi:/home/pi# echo 2 > /sys/class/gpio/export\n",
    "root@raspberrypi:/home/pi# cat /sys/kernel/debug/gpio | grep gpio-2\n",
    " gpio-2   (SDA1                |sysfs               ) in  hi\n",
    " gpio-20  (GPIO20              )\n",
    " gpio-21  (GPIO21              )\n",
    " gpio-22  (GPIO22              )\n",
    " gpio-23  (GPIO23              )\n",
    " gpio-24  (GPIO24              )\n",
    " gpio-25  (GPIO25              )\n",
    " gpio-26  (GPIO26              )\n",
    " gpio-27  (GPIO27              )\n",
    " gpio-28  (RGMII_MDIO          )\n",
    " gpio-29  (RGMIO_MDC           )\n",
    "root@raspberrypi:/home/pi# echo 3 > /sys/class/gpio/export\n",
    "root@raspberrypi:/home/pi# cat /sys/kernel/debug/gpio | grep gpio-3\n",
    " gpio-3   (SCL1                |sysfs               ) in  hi\n",
    " gpio-30  (CTS0                )\n",
    " gpio-31  (RTS0                )\n",
    " gpio-32  (TXD0                )\n",
    " gpio-33  (RXD0                )\n",
    " gpio-34  (SD1_CLK             )\n",
    " gpio-35  (SD1_CMD             )\n",
    " gpio-36  (SD1_DATA0           )\n",
    " gpio-37  (SD1_DATA1           )\n",
    " gpio-38  (SD1_DATA2           )\n",
    " gpio-39  (SD1_DATA3           )\n",
    "root@raspberrypi:/home/pi# echo 4 > /sys/class/gpio/export\n",
    "root@raspberrypi:/home/pi# cat /sys/kernel/debug/gpio | grep gpio-4\n",
    " gpio-4   (GPIO_GCLK           |sysfs               ) in  hi\n",
    " gpio-40  (PWM0_MISO           )\n",
    " gpio-41  (PWM1_MOSI           )\n",
    " gpio-42  (STATUS_LED_G_CLK    |led0                ) out lo\n",
    " gpio-43  (SPIFLASH_CE_N       )\n",
    " gpio-44  (SDA0                )\n",
    " gpio-45  (SCL0                )\n",
    " gpio-46  (RGMII_RXCLK         )\n",
    " gpio-47  (RGMII_RXCTL         )\n",
    " gpio-48  (RGMII_RXD0          )\n",
    " gpio-49  (RGMII_RXD1          )\n",
    "root@raspberrypi:/home/pi#\n"
   ]
  },
  {
   "cell_type": "markdown",
   "metadata": {},
   "source": [
    "## 作業3:"
   ]
  },
  {
   "cell_type": "markdown",
   "metadata": {},
   "source": [
    "root@raspberrypi:/home/pi# cat /sys/kernel/debug/gpio | grep gpio-7\n",
    " gpio-7   (SPI_CE1_N           |spi0 CS1            ) out hi ACTIVE LOW\n"
   ]
  }
 ],
 "metadata": {
  "kernelspec": {
   "display_name": "Python 3",
   "language": "python",
   "name": "python3"
  },
  "language_info": {
   "codemirror_mode": {
    "name": "ipython",
    "version": 3
   },
   "file_extension": ".py",
   "mimetype": "text/x-python",
   "name": "python",
   "nbconvert_exporter": "python",
   "pygments_lexer": "ipython3",
   "version": "3.8.5"
  }
 },
 "nbformat": 4,
 "nbformat_minor": 4
}
