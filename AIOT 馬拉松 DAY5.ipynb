{
 "cells": [
  {
   "cell_type": "markdown",
   "metadata": {},
   "source": [
    "## 作業1:"
   ]
  },
  {
   "cell_type": "code",
   "execution_count": null,
   "metadata": {},
   "outputs": [],
   "source": [
    "from pprint import pprint\n",
    "import json\n",
    "import requests\n"
   ]
  },
  {
   "cell_type": "code",
   "execution_count": 25,
   "metadata": {
    "scrolled": false
   },
   "outputs": [
    {
     "name": "stdout",
     "output_type": "stream",
     "text": [
      "[{'Locations': [{'@iot.id': 1,\n",
      "                 '@iot.selfLink': 'https://sta.ci.taiwan.gov.tw/STA_AirQuality_v2/v1.0/Locations(1)',\n",
      "                 'description': '空氣品質測站-基隆',\n",
      "                 'encodingType': 'application/vnd.geo+json',\n",
      "                 'location': {'coordinates': [121.7601, 25.1292],\n",
      "                              'type': 'Point'},\n",
      "                 'name': '空氣品質測站-基隆'},\n",
      "                {'@iot.id': 2,\n",
      "                 '@iot.selfLink': 'https://sta.ci.taiwan.gov.tw/STA_AirQuality_v2/v1.0/Locations(2)',\n",
      "                 'description': '空氣品質測站-基隆',\n",
      "                 'encodingType': 'address',\n",
      "                 'location': {'address': '基隆市信義區東信路324號', 'type': 'Address'},\n",
      "                 'name': '空氣品質測站-基隆'}],\n",
      "  'Locations@iot.count': 2,\n",
      "  'name': '空氣品質測站-基隆',\n",
      "  'properties': {'areaName': '北部空品區',\n",
      "                 'authority': '行政院環境保護署',\n",
      "                 'city': '基隆市',\n",
      "                 'englishName': 'Keelung',\n",
      "                 'stationID': 'EPA001',\n",
      "                 'stationName': '基隆',\n",
      "                 'stationType': '一般測站',\n",
      "                 'township': '信義區'}},\n",
      " {'Locations': [{'@iot.id': 3,\n",
      "                 '@iot.selfLink': 'https://sta.ci.taiwan.gov.tw/STA_AirQuality_v2/v1.0/Locations(3)',\n",
      "                 'description': '空氣品質測站-汐止',\n",
      "                 'encodingType': 'application/vnd.geo+json',\n",
      "                 'location': {'coordinates': [121.6408, 25.0657],\n",
      "                              'type': 'Point'},\n",
      "                 'name': '空氣品質測站-汐止'},\n",
      "                {'@iot.id': 4,\n",
      "                 '@iot.selfLink': 'https://sta.ci.taiwan.gov.tw/STA_AirQuality_v2/v1.0/Locations(4)',\n",
      "                 'description': '空氣品質測站-汐止',\n",
      "                 'encodingType': 'address',\n",
      "                 'location': {'address': '新北市汐止區樟樹一路137巷26號',\n",
      "                              'type': 'Address'},\n",
      "                 'name': '空氣品質測站-汐止'}],\n",
      "  'Locations@iot.count': 2,\n",
      "  'name': '空氣品質測站-汐止',\n",
      "  'properties': {'areaName': '北部空品區',\n",
      "                 'authority': '行政院環境保護署',\n",
      "                 'city': '新北市',\n",
      "                 'englishName': 'Xizhi',\n",
      "                 'stationID': 'EPA002',\n",
      "                 'stationName': '汐止',\n",
      "                 'stationType': '一般測站',\n",
      "                 'township': '汐止區'}},\n",
      " {'Locations': [{'@iot.id': 5,\n",
      "                 '@iot.selfLink': 'https://sta.ci.taiwan.gov.tw/STA_AirQuality_v2/v1.0/Locations(5)',\n",
      "                 'description': '空氣品質測站-萬里',\n",
      "                 'encodingType': 'application/vnd.geo+json',\n",
      "                 'location': {'coordinates': [121.6899, 25.1797],\n",
      "                              'type': 'Point'},\n",
      "                 'name': '空氣品質測站-萬里'},\n",
      "                {'@iot.id': 6,\n",
      "                 '@iot.selfLink': 'https://sta.ci.taiwan.gov.tw/STA_AirQuality_v2/v1.0/Locations(6)',\n",
      "                 'description': '空氣品質測站-萬里',\n",
      "                 'encodingType': 'address',\n",
      "                 'location': {'address': '新北市萬里區瑪鋉路221號', 'type': 'Address'},\n",
      "                 'name': '空氣品質測站-萬里'}],\n",
      "  'Locations@iot.count': 2,\n",
      "  'name': '空氣品質測站-萬里',\n",
      "  'properties': {'areaName': '北部空品區',\n",
      "                 'authority': '行政院環境保護署',\n",
      "                 'city': '新北市',\n",
      "                 'englishName': 'Wanli',\n",
      "                 'stationID': 'EPA003',\n",
      "                 'stationName': '萬里',\n",
      "                 'stationType': '一般測站',\n",
      "                 'township': '萬里區'}}]\n"
     ]
    }
   ],
   "source": [
    "url = 'https://sta.ci.taiwan.gov.tw/STA_AirQuality_v2/v1.0/Things?$expand=Locations&$select=name,properties&$count=true&$filter=properties/authority%20eq%20%27%E8%A1%8C%E6%94%BF%E9%99%A2%E7%92%B0%E5%A2%83%E4%BF%9D%E8%AD%B7%E7%BD%B2%27%20and%20substringof(%27%E7%A9%BA%E6%B0%A3%E5%93%81%E8%B3%AA%E6%B8%AC%E7%AB%99%27,name)'\n",
    "x = requests.get(url).json()\n",
    "pprint([x['value'][i]for i in range(3)])\n"
   ]
  },
  {
   "cell_type": "code",
   "execution_count": 29,
   "metadata": {
    "scrolled": false
   },
   "outputs": [
    {
     "name": "stdout",
     "output_type": "stream",
     "text": [
      "觀測站所在城市:基隆市\n",
      "觀測站名:基隆\n",
      "觀測站種類:一般測站\n",
      "\n",
      "觀測站所在城市:新北市\n",
      "觀測站名:汐止\n",
      "觀測站種類:一般測站\n",
      "\n",
      "觀測站所在城市:新北市\n",
      "觀測站名:萬里\n",
      "觀測站種類:一般測站\n",
      "\n",
      "觀測站所在城市:新北市\n",
      "觀測站名:新店\n",
      "觀測站種類:一般測站\n",
      "\n"
     ]
    }
   ],
   "source": [
    "for j in range(4):\n",
    "    print(\"觀測站所在城市:\"+ x[\"value\"][j][\"properties\"][\"city\"])\n",
    "    print(\"觀測站名:\" + x[\"value\"][j][\"properties\"][\"stationName\"])\n",
    "    print(\"觀測站種類:\" + x[\"value\"][j][\"properties\"][\"stationType\"])\n",
    "    print()"
   ]
  },
  {
   "cell_type": "markdown",
   "metadata": {},
   "source": [
    "## 作業2+3"
   ]
  },
  {
   "cell_type": "code",
   "execution_count": 30,
   "metadata": {
    "scrolled": false
   },
   "outputs": [
    {
     "name": "stdout",
     "output_type": "stream",
     "text": [
      "[{'@iot.id': 1,\n",
      "  '@iot.selfLink': 'https://sta.ci.taiwan.gov.tw/STA_AirQuality_EPAIoT/v1.0/Things(1)',\n",
      "  'Datastreams@iot.navigationLink': 'https://sta.ci.taiwan.gov.tw/STA_AirQuality_EPAIoT/v1.0/Things(1)/Datastreams',\n",
      "  'HistoricalLocations@iot.navigationLink': 'https://sta.ci.taiwan.gov.tw/STA_AirQuality_EPAIoT/v1.0/Things(1)/HistoricalLocations',\n",
      "  'Locations@iot.navigationLink': 'https://sta.ci.taiwan.gov.tw/STA_AirQuality_EPAIoT/v1.0/Things(1)/Locations',\n",
      "  'MultiDatastreams@iot.navigationLink': 'https://sta.ci.taiwan.gov.tw/STA_AirQuality_EPAIoT/v1.0/Things(1)/MultiDatastreams',\n",
      "  'TaskingCapabilities@iot.navigationLink': 'https://sta.ci.taiwan.gov.tw/STA_AirQuality_EPAIoT/v1.0/Things(1)/TaskingCapabilities',\n",
      "  'description': '智慧城鄉空品微型感測器-11113765144',\n",
      "  'name': '智慧城鄉空品微型感測器-11113765144',\n",
      "  'properties': {'Description': '廣域SAQ-210',\n",
      "                 'areaDescription': '七堵區',\n",
      "                 'areaType': '一般社區',\n",
      "                 'authority': '行政院環境保護署',\n",
      "                 'city': '基隆市',\n",
      "                 'isDisplay': 'true',\n",
      "                 'isMobile': 'false',\n",
      "                 'isOutdoor': 'true',\n",
      "                 'locationId': 'TW020201D0506810',\n",
      "                 'stationID': '11113765144',\n",
      "                 'township': '七堵區'}},\n",
      " {'@iot.id': 2,\n",
      "  '@iot.selfLink': 'https://sta.ci.taiwan.gov.tw/STA_AirQuality_EPAIoT/v1.0/Things(2)',\n",
      "  'Datastreams@iot.navigationLink': 'https://sta.ci.taiwan.gov.tw/STA_AirQuality_EPAIoT/v1.0/Things(2)/Datastreams',\n",
      "  'HistoricalLocations@iot.navigationLink': 'https://sta.ci.taiwan.gov.tw/STA_AirQuality_EPAIoT/v1.0/Things(2)/HistoricalLocations',\n",
      "  'Locations@iot.navigationLink': 'https://sta.ci.taiwan.gov.tw/STA_AirQuality_EPAIoT/v1.0/Things(2)/Locations',\n",
      "  'MultiDatastreams@iot.navigationLink': 'https://sta.ci.taiwan.gov.tw/STA_AirQuality_EPAIoT/v1.0/Things(2)/MultiDatastreams',\n",
      "  'TaskingCapabilities@iot.navigationLink': 'https://sta.ci.taiwan.gov.tw/STA_AirQuality_EPAIoT/v1.0/Things(2)/TaskingCapabilities',\n",
      "  'description': '智慧城鄉空品微型感測器-11183695772',\n",
      "  'name': '智慧城鄉空品微型感測器-11183695772',\n",
      "  'properties': {'Description': '廣域SAQ-210',\n",
      "                 'areaDescription': '大雅區',\n",
      "                 'areaType': '社區',\n",
      "                 'authority': '行政院環境保護署',\n",
      "                 'city': '臺中市',\n",
      "                 'isDisplay': 'false',\n",
      "                 'isMobile': 'false',\n",
      "                 'isOutdoor': 'true',\n",
      "                 'locationId': 'TW090208A0507633',\n",
      "                 'stationID': '11183695772',\n",
      "                 'township': '大雅區'}},\n",
      " {'@iot.id': 3,\n",
      "  '@iot.selfLink': 'https://sta.ci.taiwan.gov.tw/STA_AirQuality_EPAIoT/v1.0/Things(3)',\n",
      "  'Datastreams@iot.navigationLink': 'https://sta.ci.taiwan.gov.tw/STA_AirQuality_EPAIoT/v1.0/Things(3)/Datastreams',\n",
      "  'HistoricalLocations@iot.navigationLink': 'https://sta.ci.taiwan.gov.tw/STA_AirQuality_EPAIoT/v1.0/Things(3)/HistoricalLocations',\n",
      "  'Locations@iot.navigationLink': 'https://sta.ci.taiwan.gov.tw/STA_AirQuality_EPAIoT/v1.0/Things(3)/Locations',\n",
      "  'MultiDatastreams@iot.navigationLink': 'https://sta.ci.taiwan.gov.tw/STA_AirQuality_EPAIoT/v1.0/Things(3)/MultiDatastreams',\n",
      "  'TaskingCapabilities@iot.navigationLink': 'https://sta.ci.taiwan.gov.tw/STA_AirQuality_EPAIoT/v1.0/Things(3)/TaskingCapabilities',\n",
      "  'description': '智慧城鄉空品微型感測器-9330689794',\n",
      "  'name': '智慧城鄉空品微型感測器-9330689794',\n",
      "  'properties': {'Description': '經昌/CE003',\n",
      "                 'areaDescription': '西山工業區',\n",
      "                 'areaType': '工業區',\n",
      "                 'authority': '行政院環境保護署',\n",
      "                 'city': '苗栗縣',\n",
      "                 'isDisplay': 'true',\n",
      "                 'isMobile': 'false',\n",
      "                 'isOutdoor': 'true',\n",
      "                 'locationId': 'A0191',\n",
      "                 'stationID': '9330689794',\n",
      "                 'township': '苗栗市'}}]\n"
     ]
    }
   ],
   "source": [
    "url = \"https://sta.ci.taiwan.gov.tw/STA_AirQuality_EPAIoT/v1.0/Things\"\n",
    "y = requests.get(url).json()\n",
    "pprint([y[\"value\"][k]for k in range(3)])"
   ]
  },
  {
   "cell_type": "code",
   "execution_count": 47,
   "metadata": {},
   "outputs": [
    {
     "name": "stdout",
     "output_type": "stream",
     "text": [
      "管轄單位: 行政院環境保護署\n",
      "所在縣市: 基隆市\n",
      "區域型態: 一般社區\n",
      "感測器網址: https://sta.ci.taiwan.gov.tw/STA_AirQuality_EPAIoT/v1.0/Things(1)/Datastreams\n",
      "感測器位置:https://sta.ci.taiwan.gov.tw/STA_AirQuality_EPAIoT/v1.0/Things(1)/Locations\n",
      "相對溼度\n",
      "https://sta.ci.taiwan.gov.tw/STA_AirQuality_EPAIoT/v1.0/Datastreams(2)/Observations\n",
      "觀測時間: 2021-06-25T11:45:26.000Z\n",
      "觀測數值: 85.62\n",
      "觀測時間: 2021-06-25T11:48:27.000Z\n",
      "觀測數值: 85.71\n",
      "觀測時間: 2021-06-25T11:49:27.000Z\n",
      "觀測數值: 85.68\n",
      "觀測時間: 2021-06-25T11:46:27.000Z\n",
      "觀測數值: 85.68\n",
      "\n",
      "管轄單位: 行政院環境保護署\n",
      "所在縣市: 臺中市\n",
      "區域型態: 社區\n",
      "感測器網址: https://sta.ci.taiwan.gov.tw/STA_AirQuality_EPAIoT/v1.0/Things(2)/Datastreams\n",
      "感測器位置:https://sta.ci.taiwan.gov.tw/STA_AirQuality_EPAIoT/v1.0/Things(2)/Locations\n",
      "相對溼度\n",
      "https://sta.ci.taiwan.gov.tw/STA_AirQuality_EPAIoT/v1.0/Datastreams(5)/Observations\n",
      "\n"
     ]
    }
   ],
   "source": [
    "for k in range(2):\n",
    "    print(\"管轄單位: \" + y['value'][k]['properties']['authority'])\n",
    "    print(\"所在縣市: \" + y['value'][k]['properties']['city'])\n",
    "    print(\"區域型態: \" + y['value'][k]['properties']['areaType'])\n",
    "    print(\"感測器網址: \" + y['value'][k]['Datastreams@iot.navigationLink'])\n",
    "    print(\"感測器位置:\" + y[\"value\"][k][\"Locations@iot.navigationLink\"])\n",
    "    a = y['value'][k]['Datastreams@iot.navigationLink']\n",
    "    b = requests.get(a).json()\n",
    "    for m in range(len(b[\"value\"])):\n",
    "        if b[\"value\"][m][\"description\"] == \"相對溼度\":\n",
    "            c = b[\"value\"][m][\"Observations@iot.navigationLink\"]\n",
    "            print(b[\"value\"][m][\"description\"])\n",
    "            print(c)\n",
    "            break\n",
    "    d = requests.get(c).json()\n",
    "    for x in range(len(d['value'])):\n",
    "        print(\"觀測時間: \" + d['value'][x]['phenomenonTime'])\n",
    "        print(\"觀測數值: {}\".format(d['value'][x]['result']))\n",
    "        \n",
    "        if x >= 3:\n",
    "            break\n",
    "    \n",
    "   \n",
    "    \n",
    "    print()"
   ]
  }
 ],
 "metadata": {
  "kernelspec": {
   "display_name": "Python 3",
   "language": "python",
   "name": "python3"
  },
  "language_info": {
   "codemirror_mode": {
    "name": "ipython",
    "version": 3
   },
   "file_extension": ".py",
   "mimetype": "text/x-python",
   "name": "python",
   "nbconvert_exporter": "python",
   "pygments_lexer": "ipython3",
   "version": "3.8.5"
  }
 },
 "nbformat": 4,
 "nbformat_minor": 4
}
