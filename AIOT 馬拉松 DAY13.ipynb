{
 "cells": [
  {
   "cell_type": "markdown",
   "metadata": {},
   "source": [
    "## 作業2:"
   ]
  },
  {
   "cell_type": "code",
   "execution_count": null,
   "metadata": {},
   "outputs": [],
   "source": [
    "root@raspberrypi:/home/pi# cat led.py\n",
    "from gpiozero import PWMLED\n",
    "from time import sleep\n",
    "\n",
    "led = PWMLED(17)\n",
    "\n",
    "while True:\n",
    "    led.value = 0.1\n",
    "    sleep(1)\n",
    "    led.value = 0.3\n",
    "    sleep(1)\n",
    "    led.value = 0.5\n",
    "    sleep(1)\n",
    "    led.value = 0.7\n",
    "    sleep(1)\n",
    "\n",
    "root@raspberrypi:/home/pi#\n"
   ]
  },
  {
   "cell_type": "markdown",
   "metadata": {},
   "source": [
    "## 作業3:"
   ]
  },
  {
   "cell_type": "code",
   "execution_count": null,
   "metadata": {},
   "outputs": [],
   "source": [
    "root@raspberrypi:/home/pi# cat led.py\n",
    "from gpiozero import PWMLED, Button\n",
    "from signal import pause\n",
    "\n",
    "button = Button(2)\n",
    "led = PWMLED(17)\n",
    "\n",
    "def led_value():\n",
    "    led.value = 1\n",
    "def led_value_3():\n",
    "    led.value = 0.3\n",
    "\n",
    "button.when_pressed = led_value\n",
    "button.when_released = led_value_3\n",
    "\n",
    "pause()\n",
    "\n",
    "root@raspberrypi:/home/pi#\n"
   ]
  }
 ],
 "metadata": {
  "kernelspec": {
   "display_name": "Python 3",
   "language": "python",
   "name": "python3"
  },
  "language_info": {
   "codemirror_mode": {
    "name": "ipython",
    "version": 3
   },
   "file_extension": ".py",
   "mimetype": "text/x-python",
   "name": "python",
   "nbconvert_exporter": "python",
   "pygments_lexer": "ipython3",
   "version": "3.8.5"
  }
 },
 "nbformat": 4,
 "nbformat_minor": 4
}
