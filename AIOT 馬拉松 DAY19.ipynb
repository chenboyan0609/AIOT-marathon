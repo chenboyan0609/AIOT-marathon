{
 "cells": [
  {
   "cell_type": "markdown",
   "metadata": {},
   "source": [
    "## 程式碼\n",
    "### 設備原因 控制風扇改成控制LED燈 "
   ]
  },
  {
   "cell_type": "code",
   "execution_count": null,
   "metadata": {},
   "outputs": [],
   "source": [
    "from flask import Flask, render_template, request\n",
    "import RPi.GPIO as GPIO\n",
    "\n",
    "app = Flask(__name__)\n",
    "\n",
    "@app.route(\"/\", methods=['GET'])\n",
    "def main_index(): \n",
    "  return render_template('index.html')\n",
    "\n",
    "@app.route(\"/LED_ON\", methods=['POST'])\n",
    "def LED_ON():\n",
    "    led_pin = 23\n",
    "    GPIO.setmode(GPIO.BCM)\n",
    "    GPIO.setup(led_pin, GPIO.OUT)\n",
    "    GPIO.output(led_pin, 1)\n",
    "    \n",
    "    return \"LED 開啟\"\n",
    "    \n",
    "\n",
    "@app.route(\"/LED_OFF\", methods=['POST'])\n",
    "def LED_OFF():\n",
    "    led_pin = 23\n",
    "    GPIO.setmode(GPIO.BCM)\n",
    "    GPIO.setup(led_pin, GPIO.OUT)\n",
    "    GPIO.output(led_pin, 0)\n",
    "    \n",
    "    return \"LED 關閉\"\n",
    "    \n",
    "if __name__ == \"__main__\":\n",
    "\tapp.run(host='0.0.0.0', port=8080, debug=True, threaded=True)"
   ]
  },
  {
   "cell_type": "markdown",
   "metadata": {},
   "source": [
    "## HTML"
   ]
  },
  {
   "cell_type": "code",
   "execution_count": null,
   "metadata": {},
   "outputs": [],
   "source": [
    "<!DOCTYPE html>\n",
    "<html lang=\"en\">\n",
    "<head>\n",
    "    <meta charset=\"UTF-8\">\n",
    "    <meta name=\"viewport\" content=\"width=device-width, initial-scale=1.0\">\n",
    "    <title>Document</title>\n",
    "</head>\n",
    "<body>\n",
    "    <form action = \"LED_ON\" method = \"POST\" enctype = \"multipart/form-data\">\n",
    "        <input type = \"submit\" value=\"燈亮\"/>\n",
    "    </form>\n",
    "    <form action = \"LED_OFF\" method = \"POST\" enctype = \"multipart/form-data\"> \n",
    "        <input type = \"submit\" value=\"燈滅\"/>\n",
    "    </form>\n",
    "</body>\n",
    "</html>\n"
   ]
  },
  {
   "attachments": {
    "image.png": {
     "image/png": "[encoded data removed]"
    }
   },
   "cell_type": "markdown",
   "metadata": {},
   "source": [
    "![image.png](attachment:image.png)"
   ]
  },
  {
   "cell_type": "markdown",
   "metadata": {},
   "source": [
    "## 樹莓派執行結果"
   ]
  },
  {
   "cell_type": "code",
   "execution_count": null,
   "metadata": {},
   "outputs": [],
   "source": [
    "root@raspberrypi:/home/pi# python3 flask_test.py\n",
    " * Serving Flask app \"flask_test\" (lazy loading)\n",
    " * Environment: production\n",
    "   WARNING: Do not use the development server in a production environment.\n",
    "   Use a production WSGI server instead.\n",
    " * Debug mode: on\n",
    " * Running on http://0.0.0.0:8080/ (Press CTRL+C to quit)\n",
    " * Restarting with stat\n",
    " * Debugger is active!\n",
    " * Debugger PIN: 155-177-060\n",
    "192.168.0.18 - - [16/Jul/2021 21:46:28] \"GET / HTTP/1.1\" 200 -\n",
    "192.168.0.18 - - [16/Jul/2021 21:46:30] \"POST /LED_ON HTTP/1.1\" 200 -\n",
    "192.168.0.18 - - [16/Jul/2021 21:46:35] \"POST /LED_OFF HTTP/1.1\" 200 -\n",
    "192.168.0.18 - - [16/Jul/2021 21:46:36] \"POST /LED_ON HTTP/1.1\" 200 -\n",
    "192.168.0.18 - - [16/Jul/2021 21:46:37] \"POST /LED_OFF HTTP/1.1\" 200 -\n",
    "^Croot@raspberrypi:/home/pi#"
   ]
  }
 ],
 "metadata": {
  "kernelspec": {
   "display_name": "Python 3",
   "language": "python",
   "name": "python3"
  },
  "language_info": {
   "codemirror_mode": {
    "name": "ipython",
    "version": 3
   },
   "file_extension": ".py",
   "mimetype": "text/x-python",
   "name": "python",
   "nbconvert_exporter": "python",
   "pygments_lexer": "ipython3",
   "version": "3.8.5"
  }
 },
 "nbformat": 4,
 "nbformat_minor": 4
}
